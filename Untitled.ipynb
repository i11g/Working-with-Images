{
 "cells": [
  {
   "cell_type": "code",
   "execution_count": null,
   "id": "c6e43fa2-f2e6-43a6-bbfc-a3c49a3ea616",
   "metadata": {},
   "outputs": [],
   "source": [
    "\"\"\"\n",
    "folder = \"data/domestic-cat\"\n",
    "\n",
    "for fname in os.listdir(folder):\n",
    "    path = os.path.join(folder, fname)\n",
    "    try:\n",
    "        img_array = load_and_resize_image(path)\n",
    "        img_preprocessed = preprocess_for_model(img_array)\n",
    "        preds = model.predict(img_preprocessed)\n",
    "        top_pred = decode_predictions(preds, top=1)[0][0]\n",
    "        print(f\"{fname}: {top_pred[1]} ({top_pred[2]*100:.2f}%)\")\n",
    "    except Exception as e:\n",
    "        print(f\"❌ Error processing {fname}: {e}\")\n",
    "        \"\"\""
   ]
  },
  {
   "cell_type": "code",
   "execution_count": null,
   "id": "8a85275f-59fc-4bcb-a893-814c0f1cb460",
   "metadata": {},
   "outputs": [],
   "source": [
    "# Load an image from file\n",
    "img_path = \"example.jpg\"   # replace with your image\n",
    "img = image.load_img(img_path, target_size=(224, 224))  # resize\n",
    "\n",
    "# Convert to array\n",
    "x = image.img_to_array(img)\n",
    "\n",
    "# Add batch dimension (model expects batch, not single image)\n",
    "x = np.expand_dims(x, axis=0)\n",
    "\n",
    "# Preprocess for ResNet50\n",
    "x = preprocess_input(x)\n",
    "\n",
    "print(\"Image shape after preprocessing:\", x.shape)"
   ]
  },
  {
   "cell_type": "code",
   "execution_count": null,
   "id": "fc4ca4a8-799a-465f-b2e5-ebbc4837e825",
   "metadata": {},
   "outputs": [],
   "source": []
  },
  {
   "cell_type": "code",
   "execution_count": 68,
   "id": "55c87611-f5a6-4607-9b14-a0880754aad2",
   "metadata": {},
   "outputs": [
    {
     "name": "stdout",
     "output_type": "stream",
     "text": [
      "Overwriting imagenet_to_target.csv\n"
     ]
    }
   ],
   "source": [
    "%%writefile imagenet_to_target.csv\n",
    "imagenet_label,target_class\n",
    "tabby,domestic-cat\n",
    "tiger_cat,domestic-cat\n",
    "Egyptian_cat,domestic-cat\n",
    "Persian_cat,domestic-cat\n",
    "Siamese_cat,domestic-cat\n",
    "lynx,european-wildcat\n",
    "wildcat,european-wildcat\n",
    "cougar,jungle-cat\n",
    "puma,jungle-cat\n",
    "panthera_onca,jungle-cat\n",
    "lynx,african-wildcat\n",
    "tabby,african-wildcat\n",
    "grey_fox,african-wildcat\n",
    "leopard,african-wildcat\n",
    "coyote,african-wildcat\n",
    "Egyptian_cat,african-wildcat\n",
    "tyger_cat,african-wildcat\n",
    "gazelle,african-wildcat\n",
    "coyote,african-wildcat\n",
    "sand_cat,sand-cat\n",
    "jaguar,blackfoot-cat\n",
    "tiger,blackfoot-cat\n",
    "tiger_cat,blackfoot-cat\n",
    "leopard,blackfoot-cat\n",
    "cheetah,blackfoot-cat\n",
    "lynx,blackfoot-cat\n",
    "ocelot,blackfoot-cat\n",
    "snow_leopard,blackfoot-cat\n",
    "wood_rabbit,chinese-mountain-cat\n",
    "tabby,chinese-mountain-cat\n",
    "window_screen,chinese-mountain-cat\n",
    "shopping_basket,chinese-mountain-cat\n",
    "hyena,chinese-mountain-cat\n",
    "hare,chinese-mountain-cat\n",
    "mongoose,chinese-mountain-cat\n",
    "wallaby,chinese-mountain-cat\n",
    "kit_fox,chinese-mountain-cat\n",
    "tabby,domestic-cat\n",
    "tiger_cat,domestic-cat\n",
    "Egyptian_cat,domestic-cat\n",
    "Persian_cat,domestic-cat\n",
    "Siamese_cat,domestic-cat\n",
    "Angora,domestic-cat\n",
    "\n",
    "lynx,european-wildcat\n",
    "wildcat,european-wildcat\n",
    "wild_boar,european-wildcat\n",
    "great_grey_owl,european-wildcat\n",
    "\n",
    "leopard,jungle-cat\n",
    "jaguar,jungle-cat\n",
    "puma,jungle-cat\n",
    "cougar,jungle-cat\n",
    "tiger,jungle-cat\n",
    "dhole,jungle-cat\n",
    "dingo,jungle-cat\n",
    "red_wolf,jungle-cat\n",
    "\n",
    "cheetah,african-wildcat\n",
    "lion,african-wildcat\n",
    "\n",
    "caracal,blackfoot-cat\n",
    "ocelot,blackfoot-cat\n",
    "\n",
    "snow_leopard,chinese-mountain-cat\n",
    "\n",
    "sand_cat,sand-cat\n",
    "kit_fox,sand-cat\n",
    "Arctic_fox,sand-cat\n",
    "white_wolf,sand-cat\n",
    "red_fox,sand-cat"
   ]
  },
  {
   "cell_type": "code",
   "execution_count": 27,
   "id": "bb2e32ec-0f6b-4448-b259-90a74afd5da5",
   "metadata": {},
   "outputs": [],
   "source": [
    "\"\"\"\n",
    "from tensorflow.keras.applications.resnet50 import preprocess_input\n",
    "\n",
    "def preprocess_for_model(img_array):\n",
    "    img_array = np.expand_dims(img_array, axis=0)  # Add batch dimension (1, 224, 224, 3)\n",
    "    img_preprocessed = preprocess_input(img_array)  # Scale pixels correctly\n",
    "    return img_preprocessed\n",
    "    \"\"\""
   ]
  },
  {
   "cell_type": "code",
   "execution_count": 26,
   "id": "700ea720-1086-4980-a470-356973bc6e70",
   "metadata": {},
   "outputs": [],
   "source": [
    "\"\"\"\n",
    "def load_and_resize_image(path):\n",
    "    img = image.load_img(path, target_size=(224, 224))  # Resize to 224x224\n",
    "    img_array = image.img_to_array(img)  # Convert to array (H, W, C)\n",
    "    return img_array\n",
    "    \"\"\""
   ]
  }
 ],
 "metadata": {
  "kernelspec": {
   "display_name": "Python (myenv)",
   "language": "python",
   "name": "myenv"
  },
  "language_info": {
   "codemirror_mode": {
    "name": "ipython",
    "version": 3
   },
   "file_extension": ".py",
   "mimetype": "text/x-python",
   "name": "python",
   "nbconvert_exporter": "python",
   "pygments_lexer": "ipython3",
   "version": "3.12.3"
  }
 },
 "nbformat": 4,
 "nbformat_minor": 5
}
